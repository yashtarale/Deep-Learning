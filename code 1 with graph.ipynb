{
 "cells": [
  {
   "cell_type": "code",
   "execution_count": 1,
   "id": "a89c58a6",
   "metadata": {},
   "outputs": [],
   "source": [
    "import tensorflow.compat.v1 as tf\n",
    "tf.compat.v1.disable_eager_execution()"
   ]
  },
  {
   "cell_type": "code",
   "execution_count": 2,
   "id": "ea98a99e",
   "metadata": {},
   "outputs": [],
   "source": [
    "graph=tf.get_default_graph()"
   ]
  },
  {
   "cell_type": "code",
   "execution_count": 4,
   "id": "4bd6e04a",
   "metadata": {},
   "outputs": [
    {
     "data": {
      "text/plain": [
       "[]"
      ]
     },
     "execution_count": 4,
     "metadata": {},
     "output_type": "execute_result"
    }
   ],
   "source": [
    "graph.get_operations()"
   ]
  },
  {
   "cell_type": "code",
   "execution_count": 8,
   "id": "5f1f1e3f",
   "metadata": {},
   "outputs": [],
   "source": [
    "a=tf.constant(10,name=\"a\")#additional anme used in tensorbore if used"
   ]
  },
  {
   "cell_type": "code",
   "execution_count": 9,
   "id": "392e6900",
   "metadata": {},
   "outputs": [],
   "source": [
    "operations=graph.get_operations()"
   ]
  },
  {
   "cell_type": "code",
   "execution_count": 10,
   "id": "15fc21db",
   "metadata": {},
   "outputs": [
    {
     "data": {
      "text/plain": [
       "[<tf.Operation 'a' type=Const>,\n",
       " <tf.Operation 'a_1' type=Const>,\n",
       " <tf.Operation 'a_2' type=Const>]"
      ]
     },
     "execution_count": 10,
     "metadata": {},
     "output_type": "execute_result"
    }
   ],
   "source": [
    "operations"
   ]
  },
  {
   "cell_type": "code",
   "execution_count": 15,
   "id": "68c5d446",
   "metadata": {},
   "outputs": [
    {
     "data": {
      "text/plain": [
       "[<tf.Operation 'a' type=Const>,\n",
       " <tf.Operation 'a_1' type=Const>,\n",
       " <tf.Operation 'a_2' type=Const>,\n",
       " <tf.Operation 'b' type=Const>,\n",
       " <tf.Operation 'c' type=AddV2>,\n",
       " <tf.Operation 'b_1' type=Const>]"
      ]
     },
     "execution_count": 15,
     "metadata": {},
     "output_type": "execute_result"
    }
   ],
   "source": [
    "b=tf.constant(20,name=\"b\")\n",
    "\n",
    "operations=graph.get_operations()\n",
    "operations"
   ]
  },
  {
   "cell_type": "code",
   "execution_count": null,
   "id": "ac9fb1a9",
   "metadata": {},
   "outputs": [],
   "source": []
  },
  {
   "cell_type": "code",
   "execution_count": 12,
   "id": "e08ffe2e",
   "metadata": {},
   "outputs": [],
   "source": [
    "c=tf.add(a,b,name=\"c\")"
   ]
  },
  {
   "cell_type": "code",
   "execution_count": 13,
   "id": "8ad90d34",
   "metadata": {},
   "outputs": [
    {
     "data": {
      "text/plain": [
       "<tf.Tensor 'c:0' shape=() dtype=int32>"
      ]
     },
     "execution_count": 13,
     "metadata": {},
     "output_type": "execute_result"
    }
   ],
   "source": [
    "c"
   ]
  },
  {
   "cell_type": "code",
   "execution_count": 16,
   "id": "ebf20f12",
   "metadata": {},
   "outputs": [
    {
     "data": {
      "text/plain": [
       "[<tf.Operation 'a' type=Const>,\n",
       " <tf.Operation 'a_1' type=Const>,\n",
       " <tf.Operation 'a_2' type=Const>,\n",
       " <tf.Operation 'b' type=Const>,\n",
       " <tf.Operation 'c' type=AddV2>,\n",
       " <tf.Operation 'b_1' type=Const>]"
      ]
     },
     "execution_count": 16,
     "metadata": {},
     "output_type": "execute_result"
    }
   ],
   "source": [
    "operations=graph.get_operations()\n",
    "operations"
   ]
  },
  {
   "cell_type": "code",
   "execution_count": 26,
   "id": "87921901",
   "metadata": {},
   "outputs": [],
   "source": [
    "d=tf.multiply(a,b,name=\"d\")"
   ]
  },
  {
   "cell_type": "code",
   "execution_count": 27,
   "id": "0277a4c8",
   "metadata": {},
   "outputs": [
    {
     "data": {
      "text/plain": [
       "<tf.Tensor 'd_1:0' shape=() dtype=int32>"
      ]
     },
     "execution_count": 27,
     "metadata": {},
     "output_type": "execute_result"
    }
   ],
   "source": [
    "d"
   ]
  },
  {
   "cell_type": "code",
   "execution_count": 28,
   "id": "dab7674d",
   "metadata": {},
   "outputs": [
    {
     "data": {
      "text/plain": [
       "[<tf.Operation 'a' type=Const>,\n",
       " <tf.Operation 'a_1' type=Const>,\n",
       " <tf.Operation 'a_2' type=Const>,\n",
       " <tf.Operation 'b' type=Const>,\n",
       " <tf.Operation 'c' type=AddV2>,\n",
       " <tf.Operation 'b_1' type=Const>,\n",
       " <tf.Operation 'd' type=AddV2>,\n",
       " <tf.Operation 'd_1' type=Mul>]"
      ]
     },
     "execution_count": 28,
     "metadata": {},
     "output_type": "execute_result"
    }
   ],
   "source": [
    "operations=graph.get_operations()\n",
    "operations"
   ]
  },
  {
   "cell_type": "code",
   "execution_count": null,
   "id": "19f8b390",
   "metadata": {},
   "outputs": [],
   "source": []
  },
  {
   "cell_type": "code",
   "execution_count": 29,
   "id": "c0f59f47",
   "metadata": {},
   "outputs": [],
   "source": [
    "#create session to run these statements\n",
    "sess= tf.Session()"
   ]
  },
  {
   "cell_type": "code",
   "execution_count": 30,
   "id": "482722a9",
   "metadata": {},
   "outputs": [
    {
     "name": "stdout",
     "output_type": "stream",
     "text": [
      "200\n"
     ]
    }
   ],
   "source": [
    "print(sess.run(d))"
   ]
  },
  {
   "cell_type": "code",
   "execution_count": 33,
   "id": "7d2955ad",
   "metadata": {},
   "outputs": [
    {
     "name": "stdout",
     "output_type": "stream",
     "text": [
      "a\n",
      "a_1\n",
      "a_2\n",
      "b\n",
      "c\n",
      "b_1\n",
      "d\n",
      "d_1\n"
     ]
    }
   ],
   "source": [
    "for op in graph.get_operations():print(op.name)#check toal operaions running in the program"
   ]
  },
  {
   "cell_type": "code",
   "execution_count": 34,
   "id": "e819ac06",
   "metadata": {},
   "outputs": [],
   "source": [
    "sess.close()"
   ]
  },
  {
   "cell_type": "code",
   "execution_count": null,
   "id": "b56449e4",
   "metadata": {},
   "outputs": [],
   "source": []
  }
 ],
 "metadata": {
  "kernelspec": {
   "display_name": "Python 3",
   "language": "python",
   "name": "python3"
  },
  "language_info": {
   "codemirror_mode": {
    "name": "ipython",
    "version": 3
   },
   "file_extension": ".py",
   "mimetype": "text/x-python",
   "name": "python",
   "nbconvert_exporter": "python",
   "pygments_lexer": "ipython3",
   "version": "3.8.8"
  }
 },
 "nbformat": 4,
 "nbformat_minor": 5
}
