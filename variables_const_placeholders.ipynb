{
 "cells": [
  {
   "cell_type": "code",
   "execution_count": 78,
   "id": "6596f264",
   "metadata": {},
   "outputs": [],
   "source": [
    "import tensorflow.compat.v1 as tf\n",
    "tf.compat.v1.disable_eager_execution()\n",
    "import numpy as np\n"
   ]
  },
  {
   "cell_type": "code",
   "execution_count": 50,
   "id": "1d868d7e",
   "metadata": {},
   "outputs": [],
   "source": [
    "#THIS IS A VARIABLE\n",
    "zero=tf.Variable(0)"
   ]
  },
  {
   "cell_type": "code",
   "execution_count": 51,
   "id": "b7002467",
   "metadata": {},
   "outputs": [],
   "source": [
    "#constant\n",
    "one=tf.constant(1)"
   ]
  },
  {
   "cell_type": "code",
   "execution_count": 52,
   "id": "38e798c7",
   "metadata": {},
   "outputs": [],
   "source": [
    "new_value=tf.add(zero,one)"
   ]
  },
  {
   "cell_type": "code",
   "execution_count": null,
   "id": "042d2c29",
   "metadata": {},
   "outputs": [],
   "source": []
  },
  {
   "cell_type": "code",
   "execution_count": 53,
   "id": "3b2940eb",
   "metadata": {},
   "outputs": [],
   "source": [
    "#variable value can be changed\n",
    "update=tf.assign(zero,new_value)"
   ]
  },
  {
   "cell_type": "code",
   "execution_count": null,
   "id": "aa3bf7c0",
   "metadata": {},
   "outputs": [],
   "source": []
  },
  {
   "cell_type": "code",
   "execution_count": 58,
   "id": "52d1c9c7",
   "metadata": {},
   "outputs": [],
   "source": [
    "#whwnever using variables ...use theis 3 below lines\n",
    "\n",
    "init_op=tf.global_variables_initializer()\n",
    "#initialie al variables"
   ]
  },
  {
   "cell_type": "code",
   "execution_count": 59,
   "id": "a4b993bd",
   "metadata": {},
   "outputs": [],
   "source": [
    "\n",
    "sess=tf.Session() #to close session....  sess.close()"
   ]
  },
  {
   "cell_type": "code",
   "execution_count": 60,
   "id": "2ebac3ed",
   "metadata": {},
   "outputs": [],
   "source": [
    "#initialize variables\n",
    "sess.run(init_op)"
   ]
  },
  {
   "cell_type": "code",
   "execution_count": 61,
   "id": "7230ddb3",
   "metadata": {},
   "outputs": [
    {
     "name": "stdout",
     "output_type": "stream",
     "text": [
      "0\n"
     ]
    }
   ],
   "source": [
    "print(sess.run(zero))"
   ]
  },
  {
   "cell_type": "code",
   "execution_count": 63,
   "id": "96170af0",
   "metadata": {},
   "outputs": [
    {
     "name": "stdout",
     "output_type": "stream",
     "text": [
      "1\n",
      "2\n",
      "3\n",
      "4\n",
      "5\n"
     ]
    }
   ],
   "source": [
    "for _ in range(5):\n",
    "    sess.run(update)\n",
    "    print(sess.run(zero))"
   ]
  },
  {
   "cell_type": "code",
   "execution_count": 64,
   "id": "0d148c29",
   "metadata": {},
   "outputs": [],
   "source": [
    "#stringoperation"
   ]
  },
  {
   "cell_type": "code",
   "execution_count": 65,
   "id": "51d041e6",
   "metadata": {},
   "outputs": [],
   "source": [
    "h=tf.constant(\"hello\")"
   ]
  },
  {
   "cell_type": "code",
   "execution_count": 66,
   "id": "cf51ac9e",
   "metadata": {},
   "outputs": [],
   "source": [
    "w=tf.constant(\"world\")"
   ]
  },
  {
   "cell_type": "code",
   "execution_count": 67,
   "id": "6240f9ed",
   "metadata": {},
   "outputs": [],
   "source": [
    "hw=tf.add(h,w)"
   ]
  },
  {
   "cell_type": "code",
   "execution_count": 69,
   "id": "61e93e8e",
   "metadata": {},
   "outputs": [
    {
     "name": "stdout",
     "output_type": "stream",
     "text": [
      "b'helloworld'\n"
     ]
    }
   ],
   "source": [
    "print(sess.run(hw))"
   ]
  },
  {
   "cell_type": "code",
   "execution_count": null,
   "id": "b3ef8e47",
   "metadata": {},
   "outputs": [],
   "source": []
  },
  {
   "cell_type": "code",
   "execution_count": 70,
   "id": "96d79ea9",
   "metadata": {},
   "outputs": [],
   "source": [
    "#placeholder"
   ]
  },
  {
   "cell_type": "code",
   "execution_count": 93,
   "id": "2c36c9c9",
   "metadata": {},
   "outputs": [],
   "source": [
    "a=tf.placeholder(tf.float32)"
   ]
  },
  {
   "cell_type": "code",
   "execution_count": 94,
   "id": "310eef7a",
   "metadata": {},
   "outputs": [],
   "source": [
    "b=a*2"
   ]
  },
  {
   "cell_type": "code",
   "execution_count": 101,
   "id": "205666e7",
   "metadata": {},
   "outputs": [
    {
     "name": "stdout",
     "output_type": "stream",
     "text": [
      "6.0\n"
     ]
    }
   ],
   "source": [
    "#feeding placeholder with scalar\n",
    "result=sess.run(b,feed_dict={a:3})#feed_dict is var name\n",
    "#result=sess.run(b,{a:3})\n",
    "print(result)"
   ]
  },
  {
   "cell_type": "code",
   "execution_count": 102,
   "id": "d97d262b",
   "metadata": {},
   "outputs": [],
   "source": [
    "#feeding a placehoder with rank 1\n",
    "result=sess.run(b,feed_dict={a:[3,4,5]})"
   ]
  },
  {
   "cell_type": "code",
   "execution_count": 103,
   "id": "b676c471",
   "metadata": {},
   "outputs": [
    {
     "name": "stdout",
     "output_type": "stream",
     "text": [
      "[ 6.  8. 10.]\n"
     ]
    }
   ],
   "source": [
    "print(result)"
   ]
  },
  {
   "cell_type": "code",
   "execution_count": 108,
   "id": "83732687",
   "metadata": {},
   "outputs": [
    {
     "name": "stdout",
     "output_type": "stream",
     "text": [
      "b'helloworld'\n"
     ]
    }
   ],
   "source": [
    "with tf.Session() as sess:\n",
    "    result=sess.run(h+w)\n",
    "    print(result)\n",
    "    \n",
    "    #all lises of only this block executed ith the session\n",
    "    #not any other requirement of closing session sepraely"
   ]
  },
  {
   "cell_type": "code",
   "execution_count": null,
   "id": "ae670c14",
   "metadata": {},
   "outputs": [],
   "source": []
  },
  {
   "cell_type": "code",
   "execution_count": null,
   "id": "b4d8ee0f",
   "metadata": {},
   "outputs": [],
   "source": []
  },
  {
   "cell_type": "code",
   "execution_count": null,
   "id": "e32db871",
   "metadata": {},
   "outputs": [],
   "source": []
  },
  {
   "cell_type": "code",
   "execution_count": null,
   "id": "e549a286",
   "metadata": {},
   "outputs": [],
   "source": []
  },
  {
   "cell_type": "code",
   "execution_count": null,
   "id": "be38b3c7",
   "metadata": {},
   "outputs": [],
   "source": []
  },
  {
   "cell_type": "code",
   "execution_count": null,
   "id": "cd451122",
   "metadata": {},
   "outputs": [],
   "source": []
  },
  {
   "cell_type": "code",
   "execution_count": 79,
   "id": "97482b59",
   "metadata": {},
   "outputs": [],
   "source": [
    "matrix1 = np.array([(2,2,2),(2,2,2),(2,2,2)],dtype = 'int32')\n",
    "matrix2 = np.array([(1,1,1),(1,1,1),(1,1,1)],dtype = 'int32')"
   ]
  },
  {
   "cell_type": "code",
   "execution_count": 80,
   "id": "b86ee6b1",
   "metadata": {},
   "outputs": [
    {
     "name": "stdout",
     "output_type": "stream",
     "text": [
      "[[2 2 2]\n",
      " [2 2 2]\n",
      " [2 2 2]]\n",
      "[[1 1 1]\n",
      " [1 1 1]\n",
      " [1 1 1]]\n"
     ]
    }
   ],
   "source": [
    "\n",
    "print (matrix1)\n",
    "print (matrix2)"
   ]
  },
  {
   "cell_type": "code",
   "execution_count": 81,
   "id": "bbc67899",
   "metadata": {},
   "outputs": [],
   "source": [
    "\n",
    "matrix1 = tf.constant(matrix1)\n",
    "matrix2 = tf.constant(matrix2)\n",
    "matrix_product = tf.matmul(matrix1, matrix2)\n",
    "matrix_sum = tf.add(matrix1,matrix2)"
   ]
  },
  {
   "cell_type": "code",
   "execution_count": 82,
   "id": "28fc24b1",
   "metadata": {},
   "outputs": [
    {
     "name": "stdout",
     "output_type": "stream",
     "text": [
      "[[2. 7. 2.]\n",
      " [1. 4. 2.]\n",
      " [9. 0. 2.]]\n"
     ]
    }
   ],
   "source": [
    "matrix_3 = np.array([(2,7,2),(1,4,2),(9,0,2)],dtype = 'float32')\n",
    "print (matrix_3)"
   ]
  },
  {
   "cell_type": "code",
   "execution_count": 83,
   "id": "8288a1a8",
   "metadata": {},
   "outputs": [],
   "source": [
    "matrix_det = tf.matrix_determinant(matrix_3)\n"
   ]
  },
  {
   "cell_type": "code",
   "execution_count": 92,
   "id": "cb42cffc",
   "metadata": {},
   "outputs": [],
   "source": [
    "result1 = sess.run(matrix_product)\n",
    "result2 = sess.run(matrix_sum)\n",
    "result3 = sess.run(matrix_det)"
   ]
  },
  {
   "cell_type": "code",
   "execution_count": 89,
   "id": "6fe6e2c7",
   "metadata": {},
   "outputs": [
    {
     "name": "stdout",
     "output_type": "stream",
     "text": [
      "[[6 6 6]\n",
      " [6 6 6]\n",
      " [6 6 6]]\n"
     ]
    }
   ],
   "source": [
    "print (result1)\n",
    "\n"
   ]
  },
  {
   "cell_type": "code",
   "execution_count": 90,
   "id": "a66c299b",
   "metadata": {},
   "outputs": [
    {
     "name": "stdout",
     "output_type": "stream",
     "text": [
      "[[3 3 3]\n",
      " [3 3 3]\n",
      " [3 3 3]]\n"
     ]
    }
   ],
   "source": [
    "print (result2)"
   ]
  },
  {
   "cell_type": "code",
   "execution_count": 91,
   "id": "fbef5446",
   "metadata": {},
   "outputs": [
    {
     "name": "stdout",
     "output_type": "stream",
     "text": [
      "55.999992\n"
     ]
    }
   ],
   "source": [
    "print (result3)"
   ]
  },
  {
   "cell_type": "code",
   "execution_count": null,
   "id": "256ccf63",
   "metadata": {},
   "outputs": [],
   "source": []
  }
 ],
 "metadata": {
  "kernelspec": {
   "display_name": "Python 3",
   "language": "python",
   "name": "python3"
  },
  "language_info": {
   "codemirror_mode": {
    "name": "ipython",
    "version": 3
   },
   "file_extension": ".py",
   "mimetype": "text/x-python",
   "name": "python",
   "nbconvert_exporter": "python",
   "pygments_lexer": "ipython3",
   "version": "3.8.8"
  }
 },
 "nbformat": 4,
 "nbformat_minor": 5
}
